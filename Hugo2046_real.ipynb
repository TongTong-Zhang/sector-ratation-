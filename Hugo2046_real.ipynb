{
 "cells": [
  {
   "cell_type": "code",
   "execution_count": 1,
   "id": "e36d5d73",
   "metadata": {
    "ExecuteTime": {
     "end_time": "2024-08-28T09:56:03.548130Z",
     "start_time": "2024-08-28T09:55:59.077047Z"
    }
   },
   "outputs": [
    {
     "name": "stdout",
     "output_type": "stream",
     "text": [
      "Welcome to use Wind Quant API for Python (WindPy)!\n",
      "\n",
      "COPYRIGHT (C) 2024 WIND INFORMATION CO., LTD. ALL RIGHTS RESERVED.\n",
      "IN NO CIRCUMSTANCE SHALL WIND BE RESPONSIBLE FOR ANY DAMAGES OR LOSSES CAUSED BY USING WIND QUANT API FOR Python.\n"
     ]
    }
   ],
   "source": [
    "from WindPy import w\n",
    "import pandas as pd\n",
    "import numpy as np\n",
    "import matplotlib.pyplot as plt\n",
    "import seaborn\n",
    "\n",
    "import talib as tb\n",
    "import alphalens as al\n",
    "from sqlalchemy import create_engine, Table, Column, Integer\n",
    "from sklearn.preprocessing import StandardScaler\n",
    "import datetime\n",
    "\n",
    "\n",
    "_ = w.start()\n",
    "scaler = StandardScaler()\n",
    "\n",
    "pd.set_option('display.max_rows', None)       # 显示所有行\n",
    "pd.set_option('display.max_columns', None)    # 显示所有列"
   ]
  },
  {
   "cell_type": "code",
   "execution_count": 2,
   "id": "cf067fe8",
   "metadata": {
    "ExecuteTime": {
     "end_time": "2024-08-28T09:56:03.557628Z",
     "start_time": "2024-08-28T09:56:03.550898Z"
    }
   },
   "outputs": [],
   "source": [
    "# 提取申万一级行业\n",
    "# engine = create_engine(\"mysql+pymysql://root:@localhost:3306/meta_data?charset=utf8mb4\")\n",
    "list_indicator = [\"close\",\"volume\",\"amt\",\"pct_chg\",\"high\",\"low\",\"open\",\"turn\"]\n",
    "list_industry = [\"801010.SI\",\"801030.SI\",\"801040.SI\",\"801050.SI\",\"801080.SI\",\"801110.SI\",\"801120.SI\",\"801130.SI\",\"801140.SI\",\"801150.SI\",\"801160.SI\",\"801170.SI\",\"801180.SI\",\"801200.SI\",\"801210.SI\",\"801710.SI\",\"801720.SI\",\"801730.SI\",\"801740.SI\",\"801750.SI\",\"801760.SI\",\"801770.SI\",\"801780.SI\",\"801790.SI\",\"801880.SI\",\"801890.SI\",\"801950.SI\",\"801960.SI\",\"801970.SI\",\"801980.SI\"]  # 去除综合\n",
    "list_indicator_consencus_expection = [\"west_netprofit_CAGR\",\"west_eps_FY1\",\"west_netprofit_YOY\",\"west_avgroe_FY1\",\"estpeg_FY1\"]\n",
    "list_indicator_using = ['open','close','amt','volume','turn','west_avgroe_FY1']  # 因子筛选后在用的indicator"
   ]
  },
  {
   "cell_type": "markdown",
   "id": "95033469",
   "metadata": {},
   "source": [
    "# Func and Ini"
   ]
  },
  {
   "cell_type": "code",
   "execution_count": 3,
   "id": "95b9e5e5",
   "metadata": {
    "ExecuteTime": {
     "end_time": "2024-08-28T09:56:03.585512Z",
     "start_time": "2024-08-28T09:56:03.559195Z"
    }
   },
   "outputs": [],
   "source": [
    "def calculate_second_order_mom(close_prices, window1, window2, window3):\n",
    "    \n",
    "    def ewma(series, span): \n",
    "        return series.ewm(span=span, adjust=False).mean()\n",
    "    \n",
    "    close_series = pd.Series(close_prices)  # convert to series\n",
    "    mean_window1 = close_series.rolling(window=window1).mean()  # calculate mean value\n",
    "    fraction = (close_series - mean_window1)/ mean_window1  # Calculate the fraction\n",
    "\n",
    "    delayed_fraction = fraction.shift(window2)  # delay (shift) operation\n",
    "    \n",
    "    result = ewma(fraction - delayed_fraction, span=window3)  # Calculate the final result using EWM\n",
    "    \n",
    "    return result\n",
    "\n",
    "def calculate_momentum_spread(close_price,window1,window2):\n",
    "    \n",
    "    close_series = pd.Series(close_price)  # convert to series\n",
    "    \n",
    "    mean_window1 = close_series.rolling(window=window1).mean()  # calculate mean value in short term \n",
    "    long_fraction = (close_series - mean_window1)/ mean_window1  # calculate the fraction in short term\n",
    "    \n",
    "    mean_window2 = close_price.rolling(window=window2).mean()  # calculate mean value in long term\n",
    "    short_fraction = (close_series - mean_window2)/ mean_window2  # calculate the fraction in short term\n",
    "    \n",
    "    momentum_spread = long_fraction-short_fraction\n",
    "    \n",
    "    return momentum_spread\n",
    "\n",
    "def get_factor_dataframe_for_alphalens(dataframe):\n",
    "    \n",
    "    # 初始化数据格式\n",
    "    dataframe.index = pd.to_datetime(dataframe.index)\n",
    "    dataframe.reset_index(names=['date'],inplace=True)\n",
    "    dataframe.dropna(inplace=True)\n",
    "\n",
    "    # 调整df结构\n",
    "    dataframe_:pd.DataFrame = dataframe.melt(var_name='asset',id_vars=['date'],value_name='factor_value')\n",
    "    dataframe_.set_index(['date','asset'],inplace=True)\n",
    "    \n",
    "    return dataframe_\n",
    "\n",
    "def ini_industry_value(dataframe):\n",
    "    \n",
    "    dataframe.index = pd.to_datetime(dataframe.index) # ini date.index\n",
    "    dataframe = dataframe.shift(-1)# 错位对齐\n",
    "    dataframe.dropna(inplace=True)\n",
    "    \n",
    "    return dataframe\n",
    "\n",
    "def calculate_turnover_rate(turnover,window1,window2):  # window1>window2\n",
    "    \n",
    "    turnover_series = pd.Series(turnover)  # convert to series\n",
    "\n",
    "    mean_window1 = turnover_series.rolling(window1).mean()  # calculate mean turnover for window1\n",
    "    mean_window2 = turnover_series.rolling(window2).mean()  # calculate mean turnover for window2\n",
    "    \n",
    "    turnover_rate = mean_window1/mean_window2\n",
    "    \n",
    "    return turnover_rate\n",
    "\n",
    "def calculate_long_short_position(df,column_name,window1):\n",
    "    \n",
    "    # alphalens会自动把0和nan都drop掉，认为0和nan都没用，所以需要先判断高、低、收的价格确保不相等\n",
    "    \n",
    "    epsilon = 1e-9\n",
    "    \n",
    "    df['LOW'] = np.where(np.abs(df['CLOSE']-df['LOW'])<epsilon,df['LOW']-np.random.rand(),df['LOW'])\n",
    "    df['HIGH'] = df.apply(lambda row:row['HIGH']+np.random.rand() if np.abs(row['HIGH']-row['CLOSE'])<epsilon else row['HIGH'],axis=1)\n",
    "\n",
    "\n",
    "    long = df['CLOSE'] - df['LOW']\n",
    "    short = df['HIGH'] - df['CLOSE']\n",
    "    \n",
    "    df[column_name] = long.rolling(window1).sum()/short.rolling(window1).sum()  # 计算long/short在窗口期的和\n",
    "    \n",
    "    return df[column_name]\n",
    "\n",
    "def calculate_long_short_change(df,column_name,window1,window2):\n",
    "    \n",
    "    def ewma(series, span): \n",
    "        return series.ewm(span=span, adjust=False).mean()\n",
    "    \n",
    "    long = df['CLOSE'] - df['LOW']\n",
    "    short = df['HIGH'] - df['CLOSE']\n",
    "    spread = df['HIGH']- df['LOW']\n",
    "    spread = spread.replace(0, 1e-10)  # 替换分母的0值\n",
    "\n",
    "    volume_long_short = df['VOLUME']*((long-short)/spread)\n",
    "    \n",
    "\n",
    "    long_fraction = ewma(series=volume_long_short,span=window1)\n",
    "    short_fraction = ewma(series=volume_long_short,span=window2)\n",
    "    \n",
    "    df[column_name] =  short_fraction - long_fraction\n",
    "    \n",
    "    return df[column_name]\n",
    "\n",
    "def calculate_close_volume_divergence(df, window,column_name):\n",
    "    \n",
    "    def rank_series(series):\n",
    "        return series.rank()\n",
    "\n",
    "    def rolling_covariance(x, y, window):\n",
    "        return x.rolling(window).cov(y)  # 窗口window下x和y的协方差\n",
    "    \n",
    "    # 计算 Close 和 Volume 的排名\n",
    "    rank_close = rank_series(df['CLOSE'])\n",
    "    rank_volume = rank_series(df['VOLUME'])\n",
    "    \n",
    "    # 计算排名后的协方差\n",
    "    cov = rolling_covariance(rank_close, rank_volume, window)\n",
    "    \n",
    "    # 对协方差进行排名\n",
    "    df[column_name] = rank_series(cov)\n",
    "    \n",
    "    return df[column_name]\n",
    "\n",
    "def calculate_close_volume_divergence_corr(df,column_name,window):\n",
    "    \n",
    "    def rolling_correlation(x, y, window):\n",
    "        return x.rolling(window).corr(y)  # 窗口window下x和y的协方差\n",
    "    \n",
    "    corr = rolling_correlation(df['CLOSE'], df['VOLUME'], window)\n",
    "    \n",
    "    df[column_name] = corr\n",
    "    \n",
    "    return df[column_name]\n",
    "\n",
    "def calculate_first_order_diff_divergence(df,column_name,window):\n",
    "    \n",
    "    def rank_series(series):\n",
    "        return series.rank()\n",
    "    \n",
    "    \n",
    "    def rolling_correlation(x, y, window):\n",
    "        return x.rolling(window).corr(y)  # 窗口window下x和y的协方差\n",
    "    \n",
    "    # 计算 Close 和 Volume 的排名\n",
    "    first_order_diff_close = rank_series(df['CLOSE']/df['CLOSE'].shift(1)-1)\n",
    "    first_order_diff_volume = rank_series(df['VOLUME']/df['VOLUME'].shift(1)-1)\n",
    "    \n",
    "    corr = rolling_correlation(first_order_diff_close, first_order_diff_volume, window)\n",
    "\n",
    "    \n",
    "    df[column_name] = corr\n",
    "    \n",
    "    return df[column_name]\n",
    "\n",
    "def calculate_volume_HDL_diff_divergence(df,column_name,window):\n",
    "    \n",
    "    def rank_series(series):\n",
    "        return series.rank()\n",
    "    \n",
    "    def rolling_correlation(x, y, window):\n",
    "        return x.rolling(window).corr(y)  # 窗口window下x和y的协方差\n",
    "    \n",
    "    # 计算 hdl 和 Volume 的排名\n",
    "    rank_HDL = rank_series(df['HIGH']/df['LOW']-1)\n",
    "    rank_volume = rank_series(df['VOLUME']/df['VOLUME'].shift(1)-1)\n",
    "    \n",
    "    corr = rolling_correlation(rank_volume, rank_HDL, window)\n",
    "    \n",
    "    df[column_name] = corr\n",
    "    \n",
    "    return df[column_name]\n",
    "\n",
    "def get_factor_value_extracted(isExtract=False,**params):\n",
    "    \n",
    "    df = params['df']\n",
    "    date = params['date']\n",
    "    \n",
    "    if not isExtract:\n",
    "        return df\n",
    "    else:\n",
    "        df = df[df.index>date]\n",
    "        return df\n",
    "    \n",
    "def day2week(df):\n",
    "    df.index = pd.to_datetime(df.index)\n",
    "    df_ = df.resample('W').last()  # 周度假期导致交易日丢失\n",
    "    return df_\n",
    "\n",
    "\n",
    "\n",
    "def get_unconstant_variables(df):\n",
    "    # 创建一个布尔掩码，标记与上一行相同的行\n",
    "    mask = (df == df.shift(1)).all(axis=1)\n",
    "    # 对与上一行相同的行进行加1操作\n",
    "    random_noise = (np.random.rand(*df.shape) * 2 - 1)  # randm.rand 生成*df.shape的随机数\n",
    "    df[mask] = df[mask] + random_noise[mask]\n",
    "    return df\n",
    "\n",
    "def get_rolling_ic(df,rollingwindow):\n",
    "    ic = df.groupby(ret.index.get_level_values('date')).apply(lambda x: x['factor'].corr(x['1D'], method='spearman'))\n",
    "    ic_rolling = ic.rolling(rollingwindow).mean().dropna()\n",
    "    return ic_rolling\n",
    "\n",
    "def get_rolling_ic_ir(df,rollingwindow1,rollingwindow2):\n",
    "    \n",
    "    ic = df.groupby(ret.index.get_level_values('date')).apply(lambda x: x['factor'].corr(x['1D'], method='spearman'))\n",
    "    ic_rollinglling_mean = ic.rolling(rollingwindow1).apply(lambda roll: roll.mean())\n",
    "    ic_rollinglling_std = ic.rolling(rollingwindow2).apply(lambda roll: roll.std())\n",
    "\n",
    "    ic_ir = ic_rollinglling_mean/ic_rollinglling_std\n",
    "    return ic_ir\n",
    "\n",
    "\n",
    "def day2month(df):\n",
    "    df.index = pd.to_datetime(df.index)\n",
    "    df_ = df.resample('M').last()  # 周度假期导致交易日丢失\n",
    "    return df_\n",
    "\n",
    "def calculate_ic(factor,window):\n",
    "    ic = industry_ret.apply(lambda row:row.corr(factor.loc[row.name],method='spearman'),axis=1).rolling(window).mean().dropna()\n",
    "    return ic\n",
    "\n",
    "def calculate_icir(factor,rollingwindow1,rollingwindow2):\n",
    "    \n",
    "    ic = industry_ret.apply(lambda row:row.corr(factor.loc[row.name],method='spearman'),axis=1).rolling(rollingwindow1).mean().dropna()\n",
    "    \n",
    "    ic_rollinglling_mean = ic.rolling(rollingwindow1).apply(lambda roll: roll.mean())\n",
    "    ic_rollinglling_std = ic.rolling(rollingwindow2).apply(lambda roll: roll.std())\n",
    "    ic_ir = ic_rollinglling_mean/ic_rollinglling_std\n",
    "    \n",
    "    return ic_ir\n",
    "\n",
    "def zscroe_cross_sectional_data(df):\n",
    "    return df.apply(lambda row:(row-row.mean())/row.std(),axis=1)\n",
    "\n",
    "def calculate_quantile_groups(df, num_quantiles):\n",
    "    # 按日期分组并计算每个日期截面的分位数分组\n",
    "    quantile_groups = df.apply(lambda row: pd.qcut(row.rank(method='first'), num_quantiles, labels=False) + 1,axis=1)\n",
    "    return quantile_groups"
   ]
  },
  {
   "cell_type": "markdown",
   "id": "bc7ee84f",
   "metadata": {},
   "source": [
    "# Update"
   ]
  },
  {
   "cell_type": "code",
   "execution_count": 14,
   "id": "3ae5fb57",
   "metadata": {
    "ExecuteTime": {
     "end_time": "2024-08-01T03:36:47.218940Z",
     "start_time": "2024-08-01T03:36:47.215276Z"
    }
   },
   "outputs": [
    {
     "name": "stdout",
     "output_type": "stream",
     "text": [
      "*********************************************************************************************************************\n"
     ]
    }
   ],
   "source": [
    "print('***'*39)"
   ]
  },
  {
   "cell_type": "code",
   "execution_count": 9,
   "id": "fd625c71",
   "metadata": {
    "ExecuteTime": {
     "end_time": "2024-08-28T09:59:10.915459Z",
     "start_time": "2024-08-28T09:59:10.912410Z"
    }
   },
   "outputs": [],
   "source": [
    "fdate_meta,tdate_meta = '2024-08-01','2024-08-30'  # 月频更新，输入月第一个工作日，月最后一个工作日\n",
    "today = datetime.datetime.today().date()"
   ]
  },
  {
   "cell_type": "code",
   "execution_count": 10,
   "id": "1ff989e8",
   "metadata": {
    "ExecuteTime": {
     "end_time": "2024-08-28T09:59:11.949267Z",
     "start_time": "2024-08-28T09:59:11.944692Z"
    }
   },
   "outputs": [],
   "source": [
    "engine = create_engine(\"mysql+pymysql://root:@localhost:3306/industry_rotation_meta_data?charset=utf8mb4\")"
   ]
  },
  {
   "cell_type": "markdown",
   "id": "1a5e4d3c",
   "metadata": {
    "heading_collapsed": true
   },
   "source": [
    "## creat by sql"
   ]
  },
  {
   "cell_type": "markdown",
   "id": "ad4c91dd",
   "metadata": {
    "hidden": true
   },
   "source": [
    "创建数据库用的，平时用不到"
   ]
  },
  {
   "cell_type": "markdown",
   "id": "6438fc23",
   "metadata": {
    "heading_collapsed": true,
    "hidden": true
   },
   "source": [
    "### indicator by metric"
   ]
  },
  {
   "cell_type": "code",
   "execution_count": 6,
   "id": "ac5c927a",
   "metadata": {
    "ExecuteTime": {
     "end_time": "2024-08-28T09:57:21.226372Z",
     "start_time": "2024-08-28T09:57:18.350797Z"
    },
    "hidden": true
   },
   "outputs": [],
   "source": [
    "for ind in list_indicator_using:\n",
    "    temp = pd.read_pickle('./db/{}.pkl'.format(ind+\"_SI_d\"))\n",
    "    temp.to_sql(name='{}_si_d'.format(ind).lower(),con=engine,if_exists='replace',index=True,index_label='Date')"
   ]
  },
  {
   "cell_type": "markdown",
   "id": "94eca4b8",
   "metadata": {
    "heading_collapsed": true,
    "hidden": true
   },
   "source": [
    "### indicator by industries"
   ]
  },
  {
   "cell_type": "code",
   "execution_count": 41,
   "id": "a712d8af",
   "metadata": {
    "ExecuteTime": {
     "end_time": "2024-08-01T08:01:17.777005Z",
     "start_time": "2024-08-01T08:01:09.073798Z"
    },
    "hidden": true
   },
   "outputs": [],
   "source": [
    "for ind in list_industry:\n",
    "    temp = pd.read_pickle('./db/{}.pkl'.format(ind+\"._d\"))\n",
    "    temp.to_sql(name='{}_d'.format(ind).lower(),con=engine,if_exists='replace',index=True,index_label='Date')"
   ]
  },
  {
   "cell_type": "markdown",
   "id": "ab01b564",
   "metadata": {
    "ExecuteTime": {
     "end_time": "2024-08-01T03:58:22.267132Z",
     "start_time": "2024-08-01T03:58:22.264271Z"
    }
   },
   "source": [
    "## update by sql"
   ]
  },
  {
   "cell_type": "code",
   "execution_count": 8,
   "id": "b030d984",
   "metadata": {
    "ExecuteTime": {
     "end_time": "2024-08-28T09:59:07.674139Z",
     "start_time": "2024-08-28T09:59:07.651443Z"
    },
    "collapsed": true
   },
   "outputs": [
    {
     "ename": "NameError",
     "evalue": "name 'fdate_meta' is not defined",
     "output_type": "error",
     "traceback": [
      "\u001b[1;31m---------------------------------------------------------------------------\u001b[0m",
      "\u001b[1;31mNameError\u001b[0m                                 Traceback (most recent call last)",
      "Cell \u001b[1;32mIn[8], line 3\u001b[0m\n\u001b[0;32m      1\u001b[0m \u001b[38;5;66;03m# indicator分类，更新数据\u001b[39;00m\n\u001b[0;32m      2\u001b[0m \u001b[38;5;28;01mfor\u001b[39;00m indr \u001b[38;5;129;01min\u001b[39;00m list_indicator_using:\n\u001b[1;32m----> 3\u001b[0m     errorcode,__  \u001b[38;5;241m=\u001b[39m w\u001b[38;5;241m.\u001b[39mwsd(\u001b[38;5;124m\"\u001b[39m\u001b[38;5;124m801010.SI,801030.SI,801040.SI,801050.SI,801080.SI,801110.SI,801120.SI,801130.SI,801140.SI,801150.SI,801160.SI,801170.SI,801180.SI,801200.SI,801210.SI,801710.SI,801720.SI,801730.SI,801740.SI,801750.SI,801760.SI,801770.SI,801780.SI,801790.SI,801880.SI,801890.SI,801950.SI,801960.SI,801970.SI,801980.SI\u001b[39m\u001b[38;5;124m\"\u001b[39m, indr, fdate_meta, tdate_meta, \u001b[38;5;124m\"\u001b[39m\u001b[38;5;124mDays=Alldays;Fill=Previous\u001b[39m\u001b[38;5;124m\"\u001b[39m,usedf\u001b[38;5;241m=\u001b[39m\u001b[38;5;28;01mTrue\u001b[39;00m)  \u001b[38;5;66;03m#剔除综合   \u001b[39;00m\n\u001b[0;32m      4\u001b[0m     __\u001b[38;5;241m.\u001b[39mto_sql(name\u001b[38;5;241m=\u001b[39m\u001b[38;5;124m'\u001b[39m\u001b[38;5;132;01m{}\u001b[39;00m\u001b[38;5;124m_si_d\u001b[39m\u001b[38;5;124m'\u001b[39m\u001b[38;5;241m.\u001b[39mformat(indr)\u001b[38;5;241m.\u001b[39mlower(),con\u001b[38;5;241m=\u001b[39mengine,if_exists\u001b[38;5;241m=\u001b[39m\u001b[38;5;124m'\u001b[39m\u001b[38;5;124mappend\u001b[39m\u001b[38;5;124m'\u001b[39m,index\u001b[38;5;241m=\u001b[39m\u001b[38;5;28;01mTrue\u001b[39;00m,index_label\u001b[38;5;241m=\u001b[39m\u001b[38;5;124m'\u001b[39m\u001b[38;5;124mDate\u001b[39m\u001b[38;5;124m'\u001b[39m)\n",
      "\u001b[1;31mNameError\u001b[0m: name 'fdate_meta' is not defined"
     ]
    }
   ],
   "source": [
    "# indicator分类，更新数据\n",
    "for indr in list_indicator_using:\n",
    "    errorcode,__  = w.wsd(\"801010.SI,801030.SI,801040.SI,801050.SI,801080.SI,801110.SI,801120.SI,801130.SI,801140.SI,801150.SI,801160.SI,801170.SI,801180.SI,801200.SI,801210.SI,801710.SI,801720.SI,801730.SI,801740.SI,801750.SI,801760.SI,801770.SI,801780.SI,801790.SI,801880.SI,801890.SI,801950.SI,801960.SI,801970.SI,801980.SI\", indr, fdate_meta, tdate_meta, \"Days=Alldays;Fill=Previous\",usedf=True)  #剔除综合   \n",
    "    __.to_sql(name='{}_si_d'.format(indr).lower(),con=engine,if_exists='append',index=True,index_label='Date')"
   ]
  },
  {
   "cell_type": "markdown",
   "id": "5cade6f6",
   "metadata": {},
   "source": [
    "sql table raise erro when '.' is part of the name"
   ]
  },
  {
   "cell_type": "code",
   "execution_count": 13,
   "id": "2bd421b3",
   "metadata": {
    "ExecuteTime": {
     "end_time": "2024-08-01T08:24:14.970021Z",
     "start_time": "2024-08-01T08:24:03.417894Z"
    }
   },
   "outputs": [],
   "source": [
    "#分industry分类，更新数据\n",
    "for ind in list_industry:\n",
    "    errorcode,_ = w.wsd(ind, \"close,volume,amt,pct_chg,high,low,open\", fdate_meta, tdate_meta, \"Days=Alldays;Fill=Previous\",usedf=True)\n",
    "    _.to_sql(name='{}_d'.format(ind).lower().replace('.','_'),con=engine,if_exists='append',index=True,index_label='Date')"
   ]
  },
  {
   "cell_type": "markdown",
   "id": "2642814e",
   "metadata": {},
   "source": [
    "# meta_data\n"
   ]
  },
  {
   "cell_type": "code",
   "execution_count": 11,
   "id": "f93e5739",
   "metadata": {
    "ExecuteTime": {
     "end_time": "2024-08-28T09:59:19.585037Z",
     "start_time": "2024-08-28T09:59:19.263419Z"
    }
   },
   "outputs": [],
   "source": [
    "# open\n",
    "industry_open_real:pd.DataFrame = pd.read_sql('SELECT * FROM open_si_d',engine,index_col='Date')\n",
    "# 清理industry_close数据结构\n",
    "industry_open_real = get_unconstant_variables(industry_open_real)  # df中不可出现constant\n",
    "industry_open_real_ = day2month(industry_open_real)"
   ]
  },
  {
   "cell_type": "code",
   "execution_count": 12,
   "id": "84ab43f8",
   "metadata": {
    "ExecuteTime": {
     "end_time": "2024-08-28T09:59:21.412330Z",
     "start_time": "2024-08-28T09:59:20.395273Z"
    }
   },
   "outputs": [],
   "source": [
    "# 提取 data_by_industries\n",
    "industry_close:pd.DataFrame = pd.read_sql('SELECT * FROM close_si_d',engine,index_col='Date')\n",
    "industry_amt:pd.DataFrame = pd.read_sql('SELECT * FROM amt_si_d',engine,index_col='Date')\n",
    "industry_volume:pd.DataFrame = pd.read_sql('SELECT * FROM volume_si_d',engine,index_col='Date')\n",
    "industry_turn:pd.DataFrame = pd.read_sql('SELECT * FROM turn_si_d',engine,index_col='Date')\n",
    "roe_fy1:pd.DataFrame = pd.read_sql('SELECT * FROM west_avgroe_fy1_si_d',engine,index_col='Date')\n",
    "# ini\n",
    "industry_close.index = pd.to_datetime(industry_close.index)\n",
    "industry_amt.index = pd.to_datetime(industry_amt.index)\n",
    "industry_volume.index = pd.to_datetime(industry_volume.index)\n",
    "industry_turn.index = pd.to_datetime(industry_turn.index)"
   ]
  },
  {
   "cell_type": "markdown",
   "id": "9ddf79bf",
   "metadata": {},
   "source": [
    "##  second_oredr_mom"
   ]
  },
  {
   "cell_type": "code",
   "execution_count": 17,
   "id": "309ff2f5",
   "metadata": {
    "ExecuteTime": {
     "end_time": "2024-08-28T10:29:53.161923Z",
     "start_time": "2024-08-28T10:29:53.007468Z"
    },
    "scrolled": true
   },
   "outputs": [],
   "source": [
    "# calculate factor value\n",
    "second_order_mom = -industry_close.apply(calculate_second_order_mom,window1=10,window2=20,window3=20)\n",
    "# 初始化数据格式e\n",
    "second_order_mom.index = pd.to_datetime(second_order_mom.index)\n",
    "second_order_mom = second_order_mom.resample(\"M\").last() # 上个月因子值对应下个月开盘价"
   ]
  },
  {
   "cell_type": "markdown",
   "id": "0f231e39",
   "metadata": {},
   "source": [
    "## std_volume"
   ]
  },
  {
   "cell_type": "code",
   "execution_count": 18,
   "id": "3032cc57",
   "metadata": {
    "ExecuteTime": {
     "end_time": "2024-08-28T10:29:54.250945Z",
     "start_time": "2024-08-28T10:29:54.236196Z"
    }
   },
   "outputs": [],
   "source": [
    "std_volume:pd.DataFrame = -industry_volume.rolling(60).std().resample('M').last()"
   ]
  },
  {
   "cell_type": "markdown",
   "id": "72b475c7",
   "metadata": {},
   "source": [
    "## turnover_rate"
   ]
  },
  {
   "cell_type": "code",
   "execution_count": 19,
   "id": "0e766b21",
   "metadata": {
    "ExecuteTime": {
     "end_time": "2024-08-28T10:29:56.922430Z",
     "start_time": "2024-08-28T10:29:56.892850Z"
    }
   },
   "outputs": [],
   "source": [
    "turnover_rate:pd.DataFrame=industry_turn.apply(calculate_turnover_rate,window1=80,window2=5)  # 计算turnover_rate\n",
    "# 初始化turnover_rate，转化为月度数据\n",
    "turnover_rate = turnover_rate.resample('M').last()\n",
    "turnover_rate = get_factor_value_extracted(isExtract=False,df=turnover_rate,date=\"2021-01-01\")"
   ]
  },
  {
   "cell_type": "markdown",
   "id": "047f0255",
   "metadata": {},
   "source": [
    "## long_short_position"
   ]
  },
  {
   "cell_type": "code",
   "execution_count": 24,
   "id": "206b16bd",
   "metadata": {
    "ExecuteTime": {
     "end_time": "2024-08-01T08:38:42.552583Z",
     "start_time": "2024-08-01T08:38:42.547885Z"
    }
   },
   "outputs": [
    {
     "name": "stdout",
     "output_type": "stream",
     "text": [
      "*********************************************************************************************************************\n"
     ]
    }
   ],
   "source": [
    "print('***'*39)"
   ]
  },
  {
   "cell_type": "code",
   "execution_count": 20,
   "id": "56d5343c",
   "metadata": {
    "ExecuteTime": {
     "end_time": "2024-08-28T10:30:00.806451Z",
     "start_time": "2024-08-28T10:29:58.049397Z"
    }
   },
   "outputs": [],
   "source": [
    "long_short_position :pd.DataFrame=pd.DataFrame()  # 创建空df储存industry因子值\n",
    "for ind in list_industry:\n",
    "    temp = pd.read_sql('SELECT * FROM {}'.format(ind+'_d').lower().replace('.','_'),engine,index_col='Date')\n",
    "    temp_ = - calculate_long_short_position(df=temp,column_name=ind,window1=15)\n",
    "    long_short_position = pd.concat([long_short_position,temp_],axis=1)\n",
    "# 初始化factor_value，转化为月度数据\n",
    "long_short_position.index = pd.to_datetime(long_short_position.index)\n",
    "long_short_position = long_short_position.resample('M').last()  # 上个月因子值对应下个月开盘价"
   ]
  },
  {
   "cell_type": "markdown",
   "id": "07a6929c",
   "metadata": {},
   "source": [
    "## long_short_change"
   ]
  },
  {
   "cell_type": "code",
   "execution_count": 21,
   "id": "35bc9e34",
   "metadata": {
    "ExecuteTime": {
     "end_time": "2024-08-28T10:30:02.544543Z",
     "start_time": "2024-08-28T10:30:00.808454Z"
    }
   },
   "outputs": [],
   "source": [
    "long_short_change:pd.DataFrame=pd.DataFrame()\n",
    "for ind in list_industry:\n",
    "    temp = pd.read_sql('SELECT * FROM {}'.format(ind+'_d').lower().replace('.','_'),engine,index_col='Date')\n",
    "    temp_ = - calculate_long_short_change(df=temp,column_name=ind,window1=120,window2=15)\n",
    "    long_short_change = pd.concat([long_short_change,temp_],axis=1)\n",
    "# 初始化factor_value，转化为月度数据\n",
    "long_short_change.index = pd.to_datetime(long_short_change.index)\n",
    "long_short_change = long_short_change.resample('M').last()  "
   ]
  },
  {
   "cell_type": "markdown",
   "id": "96ea5bb4",
   "metadata": {},
   "source": [
    "## close_volume_divergence"
   ]
  },
  {
   "cell_type": "code",
   "execution_count": 22,
   "id": "4409062e",
   "metadata": {
    "ExecuteTime": {
     "end_time": "2024-08-28T10:30:04.415354Z",
     "start_time": "2024-08-28T10:30:02.545558Z"
    }
   },
   "outputs": [],
   "source": [
    "close_volume_divergence:pd.DataFrame=pd.DataFrame()\n",
    "for ind in list_industry:\n",
    "    temp = pd.read_sql('SELECT * FROM {}'.format(ind+'_d').lower().replace('.','_'),engine,index_col='Date')\n",
    "    temp_ = - calculate_close_volume_divergence(df=temp,window=60,column_name=ind)\n",
    "    close_volume_divergence = pd.concat([close_volume_divergence,temp_],axis=1)\n",
    "# 初始化factor_value\n",
    "close_volume_divergence.index = pd.to_datetime(close_volume_divergence.index)\n",
    "close_volume_divergence = close_volume_divergence.resample('M').last()"
   ]
  },
  {
   "cell_type": "markdown",
   "id": "e8a61b29",
   "metadata": {
    "ExecuteTime": {
     "end_time": "2024-07-10T08:58:05.537444Z",
     "start_time": "2024-07-10T08:58:05.527361Z"
    }
   },
   "source": [
    "## close_volume_divergence_corr"
   ]
  },
  {
   "cell_type": "code",
   "execution_count": 23,
   "id": "f9c6f632",
   "metadata": {
    "ExecuteTime": {
     "end_time": "2024-08-28T10:30:06.176323Z",
     "start_time": "2024-08-28T10:30:04.416361Z"
    }
   },
   "outputs": [],
   "source": [
    "close_volume_divergence_corr:pd.DataFrame=pd.DataFrame()\n",
    "for ind in list_industry:\n",
    "    temp = pd.read_sql('SELECT * FROM {}'.format(ind+'_d').lower().replace('.','_'),engine,index_col='Date')\n",
    "    temp_ = - calculate_close_volume_divergence_corr(df=temp,window=60,column_name=ind)\n",
    "    close_volume_divergence_corr = pd.concat([close_volume_divergence_corr,temp_],axis=1)\n",
    "# 初始化factor_value\n",
    "close_volume_divergence_corr.index = pd.to_datetime(close_volume_divergence_corr.index)\n",
    "close_volume_divergence_corr = close_volume_divergence_corr.resample('M').last()"
   ]
  },
  {
   "cell_type": "markdown",
   "id": "aadbae0d",
   "metadata": {
    "ExecuteTime": {
     "end_time": "2024-07-10T08:58:29.108609Z",
     "start_time": "2024-07-10T08:58:29.103429Z"
    }
   },
   "source": [
    "## volume_HDL_diff_divergence"
   ]
  },
  {
   "cell_type": "code",
   "execution_count": 24,
   "id": "bf3d0e2f",
   "metadata": {
    "ExecuteTime": {
     "end_time": "2024-08-28T10:30:08.061403Z",
     "start_time": "2024-08-28T10:30:06.179376Z"
    }
   },
   "outputs": [],
   "source": [
    "volume_HDL_diff_divergence:pd.DataFrame=pd.DataFrame()\n",
    "for ind in list_industry:\n",
    "    temp = pd.read_sql('SELECT * FROM {}'.format(ind+'_d').lower().replace('.','_'),engine,index_col='Date')\n",
    "    temp_ = calculate_volume_HDL_diff_divergence(df=temp,window=10,column_name=ind)\n",
    "    volume_HDL_diff_divergence = pd.concat([volume_HDL_diff_divergence,temp_],axis=1)\n",
    "# 初始化factor_value\n",
    "volume_HDL_diff_divergence.index = pd.to_datetime(volume_HDL_diff_divergence.index)\n",
    "volume_HDL_diff_divergence = volume_HDL_diff_divergence.resample('M').last()"
   ]
  },
  {
   "cell_type": "markdown",
   "id": "944ec8d8",
   "metadata": {},
   "source": [
    "## roe_fy1"
   ]
  },
  {
   "cell_type": "code",
   "execution_count": 25,
   "id": "8a5a18cd",
   "metadata": {
    "ExecuteTime": {
     "end_time": "2024-08-28T10:30:08.154359Z",
     "start_time": "2024-08-28T10:30:08.062405Z"
    }
   },
   "outputs": [],
   "source": [
    "# scaler zscroe\n",
    "scaler = StandardScaler()\n",
    "for col in roe_fy1.columns:\n",
    "    roe_fy1[col] = scaler.fit_transform(roe_fy1[[col]])\n",
    "# 初始化factor_value\n",
    "roe_fy1.index = pd.to_datetime(roe_fy1.index)\n",
    "roe_fy1 = - roe_fy1.resample('M').last()"
   ]
  },
  {
   "cell_type": "markdown",
   "id": "010d07d5",
   "metadata": {},
   "source": [
    "# get_ic"
   ]
  },
  {
   "cell_type": "markdown",
   "id": "414c4b3f",
   "metadata": {},
   "source": [
    "- 这里的问题是，ic值总是滞后一个月，因为ic的计算需要下个月的收益率，即下下个月的开盘价\n",
    "- 手动计算的ic和alphalensic有微小区别可能是因为两者保留的小数位不同"
   ]
  },
  {
   "cell_type": "code",
   "execution_count": 54,
   "id": "7f90a708",
   "metadata": {
    "ExecuteTime": {
     "end_time": "2024-07-10T09:23:50.376048Z",
     "start_time": "2024-07-10T09:23:50.367943Z"
    }
   },
   "outputs": [
    {
     "name": "stdout",
     "output_type": "stream",
     "text": [
      "*********************************************************************************************************************\n"
     ]
    }
   ],
   "source": [
    "print('***'*39)"
   ]
  },
  {
   "cell_type": "code",
   "execution_count": 34,
   "id": "9af29076",
   "metadata": {
    "ExecuteTime": {
     "end_time": "2024-08-28T10:33:56.202488Z",
     "start_time": "2024-08-28T10:33:55.993760Z"
    }
   },
   "outputs": [],
   "source": [
    "dic_factor = {\n",
    "    \n",
    "    \"second_order_mom\":second_order_mom,\n",
    "    \"std_volume\":std_volume,\n",
    "    \"turnover_rate\":turnover_rate,\n",
    "    \"long_short_position\":long_short_position,\n",
    "#     \"long_short_change\":long_short_change,\n",
    "#     \"close_volume_divergence\":close_volume_divergence,\n",
    "    \"close_volume_divergence_corr\":close_volume_divergence_corr,\n",
    "    \"volume_HDL_diff_divergence\":volume_HDL_diff_divergence,\n",
    "#     \"roe_fy1\":roe_fy1\n",
    "}\n",
    "dic_factor_ = {k:zscroe_cross_sectional_data(v.dropna()) for k,v in dic_factor.items()}  # 对csd标准化处理"
   ]
  },
  {
   "cell_type": "code",
   "execution_count": 40,
   "id": "bbb7295c",
   "metadata": {
    "ExecuteTime": {
     "end_time": "2024-08-28T10:35:26.118932Z",
     "start_time": "2024-08-28T10:35:26.112909Z"
    }
   },
   "outputs": [],
   "source": [
    "industry_ret = industry_open_real_.pct_change(1).shift(-2).dropna().loc['2017-01-31':]"
   ]
  },
  {
   "cell_type": "code",
   "execution_count": 41,
   "id": "e9a1234c",
   "metadata": {
    "ExecuteTime": {
     "end_time": "2024-08-28T10:35:27.243643Z",
     "start_time": "2024-08-28T10:35:26.965477Z"
    },
    "scrolled": true
   },
   "outputs": [],
   "source": [
    "dic_ic = {}  # 存储不同因子ic值\n",
    "for k,v in dic_factor.items():\n",
    "    dic_ic[k] = calculate_ic(v,window=3)"
   ]
  },
  {
   "cell_type": "code",
   "execution_count": 42,
   "id": "ba3ea104",
   "metadata": {
    "ExecuteTime": {
     "end_time": "2024-08-28T10:35:28.810036Z",
     "start_time": "2024-08-28T10:35:28.798868Z"
    }
   },
   "outputs": [],
   "source": [
    "dic_factor_ = {k:dic_factor_[k].loc[dic_ic[k].index.min():today] for k in dic_factor_.keys()}# 截取数据 sdate=ic sdate;edate=last month"
   ]
  },
  {
   "cell_type": "markdown",
   "id": "53de7fa4",
   "metadata": {},
   "source": [
    "# get_composite_factor_icw"
   ]
  },
  {
   "cell_type": "markdown",
   "id": "11270d73",
   "metadata": {},
   "source": [
    "我们因子合成的逻辑和前面回测有所不同：\n",
    "- 对于单个因子，我们对截面进行zscore得到因子值（这一步alphalens没做，但对结果没影响）\n",
    "- 对于因子复合阶段，确实是在截面zscore相对合理一些，这里就是这么做的"
   ]
  },
  {
   "cell_type": "code",
   "execution_count": 47,
   "id": "a4634d69",
   "metadata": {
    "ExecuteTime": {
     "end_time": "2024-08-28T10:36:25.117825Z",
     "start_time": "2024-08-28T10:36:25.026467Z"
    }
   },
   "outputs": [],
   "source": [
    "quantile_groups_df.to_excel('3.xlsx')"
   ]
  },
  {
   "cell_type": "code",
   "execution_count": 27,
   "id": "70c90d44",
   "metadata": {
    "ExecuteTime": {
     "end_time": "2024-08-23T09:09:15.191595Z",
     "start_time": "2024-08-23T09:09:15.181047Z"
    }
   },
   "outputs": [
    {
     "data": {
      "text/plain": [
       "801170.SI    5\n",
       "801730.SI    5\n",
       "801740.SI    5\n",
       "801750.SI    5\n",
       "801790.SI    5\n",
       "801890.SI    5\n",
       "Name: 2024-07-31 00:00:00, dtype: int64"
      ]
     },
     "execution_count": 27,
     "metadata": {},
     "output_type": "execute_result"
    }
   ],
   "source": [
    "top_rank_industry"
   ]
  },
  {
   "cell_type": "code",
   "execution_count": 29,
   "id": "3a541054",
   "metadata": {
    "ExecuteTime": {
     "end_time": "2024-07-10T09:06:46.511383Z",
     "start_time": "2024-07-10T09:06:46.505213Z"
    }
   },
   "outputs": [
    {
     "name": "stdout",
     "output_type": "stream",
     "text": [
      "*********************************************************************************************************************\n"
     ]
    }
   ],
   "source": [
    "print('***'*39)"
   ]
  },
  {
   "cell_type": "code",
   "execution_count": 43,
   "id": "83ff1ace",
   "metadata": {
    "ExecuteTime": {
     "end_time": "2024-08-28T10:35:34.431926Z",
     "start_time": "2024-08-28T10:35:34.429346Z"
    },
    "scrolled": true
   },
   "outputs": [],
   "source": [
    "# get clean indicator values\n",
    "dic_indicator = dic_factor_"
   ]
  },
  {
   "cell_type": "code",
   "execution_count": 44,
   "id": "ee6b5263",
   "metadata": {
    "ExecuteTime": {
     "end_time": "2024-08-28T10:35:35.906579Z",
     "start_time": "2024-08-28T10:35:35.811869Z"
    },
    "scrolled": true
   },
   "outputs": [],
   "source": [
    "dic_factor_weighted = {}  # empty dic for weighted factor values\n",
    "# 计算icw合并因子\n",
    "for key,value in dic_indicator.items():# 获取ic*factor_value dic\n",
    "    dic_factor_weighted[key] = value.apply(lambda row: row * dic_ic[key].loc[:row.name][-1],axis=1)\n",
    "df_composite_factor = sum(dic_factor_weighted[key] for key in dic_factor_weighted.keys()) #  因子值相加"
   ]
  },
  {
   "cell_type": "code",
   "execution_count": 45,
   "id": "19ace4e4",
   "metadata": {
    "ExecuteTime": {
     "end_time": "2024-08-28T10:35:36.974467Z",
     "start_time": "2024-08-28T10:35:36.915267Z"
    }
   },
   "outputs": [],
   "source": [
    "#calculate_quantile_groups\n",
    "df_composite_factor.dropna(inplace=True)\n",
    "quantile_groups_df = calculate_quantile_groups(df_composite_factor, num_quantiles=5)"
   ]
  },
  {
   "cell_type": "code",
   "execution_count": 26,
   "id": "afff0b19",
   "metadata": {
    "ExecuteTime": {
     "end_time": "2024-08-23T09:09:12.031590Z",
     "start_time": "2024-08-23T09:09:12.027179Z"
    },
    "scrolled": true
   },
   "outputs": [],
   "source": [
    "# 获取排名前5的行业\n",
    "top_rank_industry = quantile_groups_df.iloc[-1][quantile_groups_df.iloc[-1]==5]"
   ]
  }
 ],
 "metadata": {
  "kernelspec": {
   "display_name": "Python 3 (ipykernel)",
   "language": "python",
   "name": "python3"
  },
  "language_info": {
   "codemirror_mode": {
    "name": "ipython",
    "version": 3
   },
   "file_extension": ".py",
   "mimetype": "text/x-python",
   "name": "python",
   "nbconvert_exporter": "python",
   "pygments_lexer": "ipython3",
   "version": "3.11.5"
  },
  "toc": {
   "base_numbering": 1,
   "nav_menu": {},
   "number_sections": true,
   "sideBar": true,
   "skip_h1_title": false,
   "title_cell": "Table of Contents",
   "title_sidebar": "Contents",
   "toc_cell": false,
   "toc_position": {},
   "toc_section_display": true,
   "toc_window_display": false
  }
 },
 "nbformat": 4,
 "nbformat_minor": 5
}
